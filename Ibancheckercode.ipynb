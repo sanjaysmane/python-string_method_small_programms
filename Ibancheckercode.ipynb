{
 "cells": [
  {
   "cell_type": "code",
   "execution_count": 1,
   "id": "bf6488b4",
   "metadata": {},
   "outputs": [
    {
     "name": "stdout",
     "output_type": "stream",
     "text": [
      "Iban is valid\n",
      "Iban is not valid\n",
      "Iban is not valid\n",
      "Iban is valid\n"
     ]
    }
   ],
   "source": [
    "Ibans = [\"DE02120300000000202051\", \"DE02600501010002034340\",\"DE02370501980001802065\",\"DE02700100800030876808\"]\n",
    "\n",
    "\n",
    "for Iban in Ibans:\n",
    "    Iban_rearranged = Iban[4:] + Iban[0:4]\n",
    " \n",
    "    if \"DE\" in Iban_rearranged:\n",
    "        full_numbered_Iban = Iban_rearranged.replace(\"DE\", \"1314\")    \n",
    "        if (int(full_numbered_Iban) % 97) == 1:\n",
    "            print(\"Iban is valid\".format(Iban))\n",
    "        else:\n",
    "            print(\"Iban is not valid\".format(Iban))\n",
    "    "
   ]
  }
 ],
 "metadata": {
  "kernelspec": {
   "display_name": "Python 3 (ipykernel)",
   "language": "python",
   "name": "python3"
  },
  "language_info": {
   "codemirror_mode": {
    "name": "ipython",
    "version": 3
   },
   "file_extension": ".py",
   "mimetype": "text/x-python",
   "name": "python",
   "nbconvert_exporter": "python",
   "pygments_lexer": "ipython3",
   "version": "3.9.7"
  }
 },
 "nbformat": 4,
 "nbformat_minor": 5
}
